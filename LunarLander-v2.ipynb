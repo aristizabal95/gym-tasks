{
 "cells": [
  {
   "cell_type": "code",
   "execution_count": 1,
   "metadata": {},
   "outputs": [],
   "source": [
    "import gym"
   ]
  },
  {
   "cell_type": "code",
   "execution_count": 4,
   "metadata": {},
   "outputs": [],
   "source": [
    "from models.expected_sarsa import ExpectedSarsa"
   ]
  },
  {
   "cell_type": "code",
   "execution_count": 6,
   "metadata": {},
   "outputs": [
    {
     "ename": "AssertionError",
     "evalue": "None (<class 'NoneType'>) invalid ",
     "output_type": "error",
     "traceback": [
      "\u001b[0;31m---------------------------------------------------------------------------\u001b[0m",
      "\u001b[0;31mAssertionError\u001b[0m                            Traceback (most recent call last)",
      "\u001b[1;32m/Users/aristizabal-factored/Documents/gym-tasks/LunarLander-v2.ipynb Cell 3'\u001b[0m in \u001b[0;36m<cell line: 5>\u001b[0;34m()\u001b[0m\n\u001b[1;32m      <a href='vscode-notebook-cell:/Users/aristizabal-factored/Documents/gym-tasks/LunarLander-v2.ipynb#ch0000002?line=5'>6</a>\u001b[0m env\u001b[39m.\u001b[39mrender()\n\u001b[1;32m      <a href='vscode-notebook-cell:/Users/aristizabal-factored/Documents/gym-tasks/LunarLander-v2.ipynb#ch0000002?line=6'>7</a>\u001b[0m action \u001b[39m=\u001b[39m agent\u001b[39m.\u001b[39mact(observation)\n\u001b[0;32m----> <a href='vscode-notebook-cell:/Users/aristizabal-factored/Documents/gym-tasks/LunarLander-v2.ipynb#ch0000002?line=7'>8</a>\u001b[0m observation, reward, done, info \u001b[39m=\u001b[39m env\u001b[39m.\u001b[39;49mstep(action)\n\u001b[1;32m      <a href='vscode-notebook-cell:/Users/aristizabal-factored/Documents/gym-tasks/LunarLander-v2.ipynb#ch0000002?line=8'>9</a>\u001b[0m \u001b[39mif\u001b[39;00m done:\n\u001b[1;32m     <a href='vscode-notebook-cell:/Users/aristizabal-factored/Documents/gym-tasks/LunarLander-v2.ipynb#ch0000002?line=9'>10</a>\u001b[0m \tobservation, info \u001b[39m=\u001b[39m env\u001b[39m.\u001b[39mreset(return_info\u001b[39m=\u001b[39m\u001b[39mTrue\u001b[39;00m)\n",
      "File \u001b[0;32m~/Documents/gym-tasks/.venv/lib/python3.9/site-packages/gym/wrappers/time_limit.py:49\u001b[0m, in \u001b[0;36mTimeLimit.step\u001b[0;34m(self, action)\u001b[0m\n\u001b[1;32m     <a href='file:///Users/aristizabal-factored/Documents/gym-tasks/.venv/lib/python3.9/site-packages/gym/wrappers/time_limit.py?line=37'>38</a>\u001b[0m \u001b[39mdef\u001b[39;00m \u001b[39mstep\u001b[39m(\u001b[39mself\u001b[39m, action):\n\u001b[1;32m     <a href='file:///Users/aristizabal-factored/Documents/gym-tasks/.venv/lib/python3.9/site-packages/gym/wrappers/time_limit.py?line=38'>39</a>\u001b[0m     \u001b[39m\"\"\"Steps through the environment and if the number of steps elapsed exceeds ``max_episode_steps`` then truncate.\u001b[39;00m\n\u001b[1;32m     <a href='file:///Users/aristizabal-factored/Documents/gym-tasks/.venv/lib/python3.9/site-packages/gym/wrappers/time_limit.py?line=39'>40</a>\u001b[0m \n\u001b[1;32m     <a href='file:///Users/aristizabal-factored/Documents/gym-tasks/.venv/lib/python3.9/site-packages/gym/wrappers/time_limit.py?line=40'>41</a>\u001b[0m \u001b[39m    Args:\u001b[39;00m\n\u001b[0;32m   (...)\u001b[0m\n\u001b[1;32m     <a href='file:///Users/aristizabal-factored/Documents/gym-tasks/.venv/lib/python3.9/site-packages/gym/wrappers/time_limit.py?line=46'>47</a>\u001b[0m \u001b[39m        \"TimeLimit.truncated\"=False if the environment terminated\u001b[39;00m\n\u001b[1;32m     <a href='file:///Users/aristizabal-factored/Documents/gym-tasks/.venv/lib/python3.9/site-packages/gym/wrappers/time_limit.py?line=47'>48</a>\u001b[0m \u001b[39m    \"\"\"\u001b[39;00m\n\u001b[0;32m---> <a href='file:///Users/aristizabal-factored/Documents/gym-tasks/.venv/lib/python3.9/site-packages/gym/wrappers/time_limit.py?line=48'>49</a>\u001b[0m     observation, reward, done, info \u001b[39m=\u001b[39m \u001b[39mself\u001b[39;49m\u001b[39m.\u001b[39;49menv\u001b[39m.\u001b[39;49mstep(action)\n\u001b[1;32m     <a href='file:///Users/aristizabal-factored/Documents/gym-tasks/.venv/lib/python3.9/site-packages/gym/wrappers/time_limit.py?line=49'>50</a>\u001b[0m     \u001b[39mself\u001b[39m\u001b[39m.\u001b[39m_elapsed_steps \u001b[39m+\u001b[39m\u001b[39m=\u001b[39m \u001b[39m1\u001b[39m\n\u001b[1;32m     <a href='file:///Users/aristizabal-factored/Documents/gym-tasks/.venv/lib/python3.9/site-packages/gym/wrappers/time_limit.py?line=50'>51</a>\u001b[0m     \u001b[39mif\u001b[39;00m \u001b[39mself\u001b[39m\u001b[39m.\u001b[39m_elapsed_steps \u001b[39m>\u001b[39m\u001b[39m=\u001b[39m \u001b[39mself\u001b[39m\u001b[39m.\u001b[39m_max_episode_steps:\n",
      "File \u001b[0;32m~/Documents/gym-tasks/.venv/lib/python3.9/site-packages/gym/wrappers/order_enforcing.py:37\u001b[0m, in \u001b[0;36mOrderEnforcing.step\u001b[0;34m(self, action)\u001b[0m\n\u001b[1;32m     <a href='file:///Users/aristizabal-factored/Documents/gym-tasks/.venv/lib/python3.9/site-packages/gym/wrappers/order_enforcing.py?line=34'>35</a>\u001b[0m \u001b[39mif\u001b[39;00m \u001b[39mnot\u001b[39;00m \u001b[39mself\u001b[39m\u001b[39m.\u001b[39m_has_reset:\n\u001b[1;32m     <a href='file:///Users/aristizabal-factored/Documents/gym-tasks/.venv/lib/python3.9/site-packages/gym/wrappers/order_enforcing.py?line=35'>36</a>\u001b[0m     \u001b[39mraise\u001b[39;00m ResetNeeded(\u001b[39m\"\u001b[39m\u001b[39mCannot call env.step() before calling env.reset()\u001b[39m\u001b[39m\"\u001b[39m)\n\u001b[0;32m---> <a href='file:///Users/aristizabal-factored/Documents/gym-tasks/.venv/lib/python3.9/site-packages/gym/wrappers/order_enforcing.py?line=36'>37</a>\u001b[0m \u001b[39mreturn\u001b[39;00m \u001b[39mself\u001b[39;49m\u001b[39m.\u001b[39;49menv\u001b[39m.\u001b[39;49mstep(action)\n",
      "File \u001b[0;32m~/Documents/gym-tasks/.venv/lib/python3.9/site-packages/gym/wrappers/env_checker.py:39\u001b[0m, in \u001b[0;36mPassiveEnvChecker.step\u001b[0;34m(self, action)\u001b[0m\n\u001b[1;32m     <a href='file:///Users/aristizabal-factored/Documents/gym-tasks/.venv/lib/python3.9/site-packages/gym/wrappers/env_checker.py?line=36'>37</a>\u001b[0m \u001b[39mif\u001b[39;00m \u001b[39mself\u001b[39m\u001b[39m.\u001b[39mchecked_step \u001b[39mis\u001b[39;00m \u001b[39mFalse\u001b[39;00m:\n\u001b[1;32m     <a href='file:///Users/aristizabal-factored/Documents/gym-tasks/.venv/lib/python3.9/site-packages/gym/wrappers/env_checker.py?line=37'>38</a>\u001b[0m     \u001b[39mself\u001b[39m\u001b[39m.\u001b[39mchecked_step \u001b[39m=\u001b[39m \u001b[39mTrue\u001b[39;00m\n\u001b[0;32m---> <a href='file:///Users/aristizabal-factored/Documents/gym-tasks/.venv/lib/python3.9/site-packages/gym/wrappers/env_checker.py?line=38'>39</a>\u001b[0m     \u001b[39mreturn\u001b[39;00m passive_env_step_check(\u001b[39mself\u001b[39;49m\u001b[39m.\u001b[39;49menv, action)\n\u001b[1;32m     <a href='file:///Users/aristizabal-factored/Documents/gym-tasks/.venv/lib/python3.9/site-packages/gym/wrappers/env_checker.py?line=39'>40</a>\u001b[0m \u001b[39melse\u001b[39;00m:\n\u001b[1;32m     <a href='file:///Users/aristizabal-factored/Documents/gym-tasks/.venv/lib/python3.9/site-packages/gym/wrappers/env_checker.py?line=40'>41</a>\u001b[0m     \u001b[39mreturn\u001b[39;00m \u001b[39mself\u001b[39m\u001b[39m.\u001b[39menv\u001b[39m.\u001b[39mstep(action)\n",
      "File \u001b[0;32m~/Documents/gym-tasks/.venv/lib/python3.9/site-packages/gym/utils/passive_env_checker.py:254\u001b[0m, in \u001b[0;36mpassive_env_step_check\u001b[0;34m(env, action)\u001b[0m\n\u001b[1;32m    <a href='file:///Users/aristizabal-factored/Documents/gym-tasks/.venv/lib/python3.9/site-packages/gym/utils/passive_env_checker.py?line=251'>252</a>\u001b[0m \u001b[39mdef\u001b[39;00m \u001b[39mpassive_env_step_check\u001b[39m(env, action):\n\u001b[1;32m    <a href='file:///Users/aristizabal-factored/Documents/gym-tasks/.venv/lib/python3.9/site-packages/gym/utils/passive_env_checker.py?line=252'>253</a>\u001b[0m     \u001b[39m\"\"\"A passive check for the environment step, investigating the returning data then returning the data unchanged.\"\"\"\u001b[39;00m\n\u001b[0;32m--> <a href='file:///Users/aristizabal-factored/Documents/gym-tasks/.venv/lib/python3.9/site-packages/gym/utils/passive_env_checker.py?line=253'>254</a>\u001b[0m     result \u001b[39m=\u001b[39m env\u001b[39m.\u001b[39;49mstep(action)\n\u001b[1;32m    <a href='file:///Users/aristizabal-factored/Documents/gym-tasks/.venv/lib/python3.9/site-packages/gym/utils/passive_env_checker.py?line=254'>255</a>\u001b[0m     \u001b[39mif\u001b[39;00m \u001b[39mlen\u001b[39m(result) \u001b[39m==\u001b[39m \u001b[39m4\u001b[39m:\n\u001b[1;32m    <a href='file:///Users/aristizabal-factored/Documents/gym-tasks/.venv/lib/python3.9/site-packages/gym/utils/passive_env_checker.py?line=255'>256</a>\u001b[0m         obs, reward, done, info \u001b[39m=\u001b[39m result\n",
      "File \u001b[0;32m~/Documents/gym-tasks/.venv/lib/python3.9/site-packages/gym/envs/box2d/lunar_lander.py:455\u001b[0m, in \u001b[0;36mLunarLander.step\u001b[0;34m(self, action)\u001b[0m\n\u001b[1;32m    <a href='file:///Users/aristizabal-factored/Documents/gym-tasks/.venv/lib/python3.9/site-packages/gym/envs/box2d/lunar_lander.py?line=452'>453</a>\u001b[0m     action \u001b[39m=\u001b[39m np\u001b[39m.\u001b[39mclip(action, \u001b[39m-\u001b[39m\u001b[39m1\u001b[39m, \u001b[39m+\u001b[39m\u001b[39m1\u001b[39m)\u001b[39m.\u001b[39mastype(np\u001b[39m.\u001b[39mfloat32)\n\u001b[1;32m    <a href='file:///Users/aristizabal-factored/Documents/gym-tasks/.venv/lib/python3.9/site-packages/gym/envs/box2d/lunar_lander.py?line=453'>454</a>\u001b[0m \u001b[39melse\u001b[39;00m:\n\u001b[0;32m--> <a href='file:///Users/aristizabal-factored/Documents/gym-tasks/.venv/lib/python3.9/site-packages/gym/envs/box2d/lunar_lander.py?line=454'>455</a>\u001b[0m     \u001b[39massert\u001b[39;00m \u001b[39mself\u001b[39m\u001b[39m.\u001b[39maction_space\u001b[39m.\u001b[39mcontains(\n\u001b[1;32m    <a href='file:///Users/aristizabal-factored/Documents/gym-tasks/.venv/lib/python3.9/site-packages/gym/envs/box2d/lunar_lander.py?line=455'>456</a>\u001b[0m         action\n\u001b[1;32m    <a href='file:///Users/aristizabal-factored/Documents/gym-tasks/.venv/lib/python3.9/site-packages/gym/envs/box2d/lunar_lander.py?line=456'>457</a>\u001b[0m     ), \u001b[39mf\u001b[39m\u001b[39m\"\u001b[39m\u001b[39m{\u001b[39;00maction\u001b[39m!r}\u001b[39;00m\u001b[39m (\u001b[39m\u001b[39m{\u001b[39;00m\u001b[39mtype\u001b[39m(action)\u001b[39m}\u001b[39;00m\u001b[39m) invalid \u001b[39m\u001b[39m\"\u001b[39m\n\u001b[1;32m    <a href='file:///Users/aristizabal-factored/Documents/gym-tasks/.venv/lib/python3.9/site-packages/gym/envs/box2d/lunar_lander.py?line=458'>459</a>\u001b[0m \u001b[39m# Engines\u001b[39;00m\n\u001b[1;32m    <a href='file:///Users/aristizabal-factored/Documents/gym-tasks/.venv/lib/python3.9/site-packages/gym/envs/box2d/lunar_lander.py?line=459'>460</a>\u001b[0m tip \u001b[39m=\u001b[39m (math\u001b[39m.\u001b[39msin(\u001b[39mself\u001b[39m\u001b[39m.\u001b[39mlander\u001b[39m.\u001b[39mangle), math\u001b[39m.\u001b[39mcos(\u001b[39mself\u001b[39m\u001b[39m.\u001b[39mlander\u001b[39m.\u001b[39mangle))\n",
      "\u001b[0;31mAssertionError\u001b[0m: None (<class 'NoneType'>) invalid "
     ]
    }
   ],
   "source": [
    "env = gym.make('LunarLander-v2')\n",
    "agent = ExpectedSarsa(env, config={'epsilon': 0.1})\n",
    "observation, info = env.reset(seed=42, return_info=True)\n",
    "\n",
    "for _ in range(1000):\n",
    "\tenv.render()\n",
    "\taction = agent.act(observation)\n",
    "\tobservation, reward, done, info = env.step(action)\n",
    "\tif done:\n",
    "\t\tobservation, info = env.reset(return_info=True)\n",
    "env.close()"
   ]
  },
  {
   "cell_type": "code",
   "execution_count": 8,
   "metadata": {},
   "outputs": [
    {
     "data": {
      "text/plain": [
       "Box([-1.5       -1.5       -5.        -5.        -3.1415927 -5.\n",
       " -0.        -0.       ], [1.5       1.5       5.        5.        3.1415927 5.        1.\n",
       " 1.       ], (8,), float32)"
      ]
     },
     "execution_count": 8,
     "metadata": {},
     "output_type": "execute_result"
    }
   ],
   "source": [
    "env.observation_space"
   ]
  },
  {
   "cell_type": "code",
   "execution_count": 9,
   "metadata": {},
   "outputs": [
    {
     "data": {
      "text/plain": [
       "array([ 0.01624813,  1.4752607 ,  0.17795372,  0.2214636 , -0.01863919,\n",
       "       -0.09552778,  0.        ,  0.        ], dtype=float32)"
      ]
     },
     "execution_count": 9,
     "metadata": {},
     "output_type": "execute_result"
    }
   ],
   "source": [
    "observation"
   ]
  },
  {
   "cell_type": "code",
   "execution_count": null,
   "metadata": {},
   "outputs": [],
   "source": []
  }
 ],
 "metadata": {
  "interpreter": {
   "hash": "01d3756cf2a3a4ebed53cb5f94cb2add86779d6039d6740639f80f725368b6e7"
  },
  "kernelspec": {
   "display_name": "Python 3.9.6 ('.venv': venv)",
   "language": "python",
   "name": "python3"
  },
  "language_info": {
   "codemirror_mode": {
    "name": "ipython",
    "version": 3
   },
   "file_extension": ".py",
   "mimetype": "text/x-python",
   "name": "python",
   "nbconvert_exporter": "python",
   "pygments_lexer": "ipython3",
   "version": "3.9.6"
  },
  "orig_nbformat": 4
 },
 "nbformat": 4,
 "nbformat_minor": 2
}
