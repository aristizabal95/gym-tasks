{
 "cells": [
  {
   "cell_type": "code",
   "execution_count": 1,
   "metadata": {},
   "outputs": [
    {
     "name": "stderr",
     "output_type": "stream",
     "text": [
      "/home/aristizabal95/miniconda3/envs/gym/lib/python3.10/site-packages/tqdm/auto.py:22: TqdmWarning: IProgress not found. Please update jupyter and ipywidgets. See https://ipywidgets.readthedocs.io/en/stable/user_install.html\n",
      "  from .autonotebook import tqdm as notebook_tqdm\n"
     ]
    }
   ],
   "source": [
    "import gym\n",
    "import torch\n",
    "%load_ext autoreload\n",
    "%autoreload 2"
   ]
  },
  {
   "cell_type": "code",
   "execution_count": 2,
   "metadata": {},
   "outputs": [],
   "source": [
    "from models.policy_gradient import VanillaPG"
   ]
  },
  {
   "cell_type": "code",
   "execution_count": 21,
   "metadata": {},
   "outputs": [],
   "source": [
    "env = gym.make('LunarLander-v2')\n",
    "agent = VanillaPG(env, {\n",
    "\t\"policy\": {\n",
    "\t\t\"layers\": [8, 6, 4]\n",
    "\t},\n",
    "\t\"step_size\": 1e-2,\n",
    "\t\"batch_size\": 2048,\n",
    "\t\"gamma\": 0.99\n",
    "})\n",
    "\n",
    "observation, info = env.reset(seed=42, return_info=True)"
   ]
  },
  {
   "cell_type": "code",
   "execution_count": 22,
   "metadata": {},
   "outputs": [
    {
     "name": "stderr",
     "output_type": "stream",
     "text": [
      "100%|██████████| 2000/2000 [02:36<00:00, 12.75it/s]\n"
     ]
    }
   ],
   "source": [
    "from tqdm import tqdm\n",
    "episodes = 20000\n",
    "render_every = 50\n",
    "agent.reset()\n",
    "for epoch in tqdm(range(episodes)):\n",
    "\tobservation, info = env.reset(seed=42, return_info=True)\n",
    "\twhile True:\n",
    "\t\tobservation = torch.from_numpy(observation).float()\n",
    "\t\taction = agent.get_action(observation)\n",
    "\t\tn_observation, reward, done, _= env.step(action)\n",
    "\t\tagent.update(observation, action, reward, n_observation, done)\n",
    "\t\tobservation = n_observation\n",
    "\t\tif epoch % render_every == 0:\n",
    "\t\t\tenv.render()\n",
    "\t\tif done:\n",
    "\t\t\tbreak"
   ]
  },
  {
   "cell_type": "markdown",
   "metadata": {},
   "source": []
  },
  {
   "cell_type": "code",
   "execution_count": 20,
   "metadata": {},
   "outputs": [],
   "source": [
    "env.close()"
   ]
  },
  {
   "cell_type": "code",
   "execution_count": null,
   "metadata": {},
   "outputs": [],
   "source": []
  }
 ],
 "metadata": {
  "interpreter": {
   "hash": "d07370590de58285df589b9b920a038569bf3dca8a7f37743f7df9271b20a1c8"
  },
  "kernelspec": {
   "display_name": "Python 3.10.4 ('gym')",
   "language": "python",
   "name": "python3"
  },
  "language_info": {
   "codemirror_mode": {
    "name": "ipython",
    "version": 3
   },
   "file_extension": ".py",
   "mimetype": "text/x-python",
   "name": "python",
   "nbconvert_exporter": "python",
   "pygments_lexer": "ipython3",
   "version": "3.10.4"
  },
  "orig_nbformat": 4
 },
 "nbformat": 4,
 "nbformat_minor": 2
}
