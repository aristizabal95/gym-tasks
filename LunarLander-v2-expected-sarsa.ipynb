{
 "cells": [
  {
   "cell_type": "code",
   "execution_count": 1,
   "metadata": {},
   "outputs": [],
   "source": [
    "import gym\n",
    "import torch\n",
    "%load_ext autoreload\n",
    "%autoreload 2"
   ]
  },
  {
   "cell_type": "code",
   "execution_count": 16,
   "metadata": {},
   "outputs": [],
   "source": [
    "from rl.models.action_value import ExpectedSarsa\n",
    "from rl.strategies.function_approximation import EpsilonGreedy"
   ]
  },
  {
   "cell_type": "code",
   "execution_count": 183,
   "metadata": {},
   "outputs": [],
   "source": [
    "env = gym.make('LunarLander-v2')\n",
    "strat = EpsilonGreedy({\n",
    "\t\"epsilon\": 0.1,\n",
    "\t\"lr\": 1e-2,\n",
    "\t\"env\": env,\n",
    "\t\"seed\": 72047,\n",
    "\t\"weight_decay\": 1e-5,\n",
    "\t\"action_value\": {\n",
    "\t\t\"layers\": [6]\n",
    "\t}\n",
    "})\n",
    "agent = ExpectedSarsa(env, {\n",
    "\t\"policy\": {\n",
    "\t\t\"layers\": [4]\n",
    "\t},\n",
    "\t\"step_size\": 1e-2,\n",
    "\t\"batch_size\": 2048,\n",
    "\t\"gamma\": 0.99\n",
    "}, strat)\n",
    "\n",
    "observation, info = env.reset(return_info=True)\n",
    "observation = torch.from_numpy(observation).float()"
   ]
  },
  {
   "cell_type": "code",
   "execution_count": 184,
   "metadata": {},
   "outputs": [
    {
     "name": "stderr",
     "output_type": "stream",
     "text": [
      "100eps avg reward: -79.42642933485601:  61%|██████    | 1824/3000 [18:03<11:38,  1.68it/s]   \n"
     ]
    },
    {
     "ename": "KeyboardInterrupt",
     "evalue": "",
     "output_type": "error",
     "traceback": [
      "\u001b[0;31m---------------------------------------------------------------------------\u001b[0m",
      "\u001b[0;31mKeyboardInterrupt\u001b[0m                         Traceback (most recent call last)",
      "\u001b[1;32m/Users/aristizabal-factored/Documents/gym-tasks/LunarLander-v2 copy.ipynb Cell 4'\u001b[0m in \u001b[0;36m<cell line: 8>\u001b[0;34m()\u001b[0m\n\u001b[1;32m     <a href='vscode-notebook-cell:/Users/aristizabal-factored/Documents/gym-tasks/LunarLander-v2%20copy.ipynb#ch0000003?line=15'>16</a>\u001b[0m ep_reward \u001b[39m+\u001b[39m\u001b[39m=\u001b[39m reward\n\u001b[1;32m     <a href='vscode-notebook-cell:/Users/aristizabal-factored/Documents/gym-tasks/LunarLander-v2%20copy.ipynb#ch0000003?line=16'>17</a>\u001b[0m \u001b[39m# reward = reward ** 5\u001b[39;00m\n\u001b[0;32m---> <a href='vscode-notebook-cell:/Users/aristizabal-factored/Documents/gym-tasks/LunarLander-v2%20copy.ipynb#ch0000003?line=17'>18</a>\u001b[0m agent\u001b[39m.\u001b[39;49mupdate(observation, action, reward, n_observation, done)\n\u001b[1;32m     <a href='vscode-notebook-cell:/Users/aristizabal-factored/Documents/gym-tasks/LunarLander-v2%20copy.ipynb#ch0000003?line=18'>19</a>\u001b[0m observation \u001b[39m=\u001b[39m n_observation\n\u001b[1;32m     <a href='vscode-notebook-cell:/Users/aristizabal-factored/Documents/gym-tasks/LunarLander-v2%20copy.ipynb#ch0000003?line=19'>20</a>\u001b[0m \u001b[39mif\u001b[39;00m epoch \u001b[39m%\u001b[39m render_every \u001b[39m==\u001b[39m \u001b[39m0\u001b[39m:\n",
      "File \u001b[0;32m~/Documents/gym-tasks/rl/models/action_value/expected_sarsa.py:19\u001b[0m, in \u001b[0;36mExpectedSarsa.update\u001b[0;34m(self, observation, action, reward, next_observation, done)\u001b[0m\n\u001b[1;32m     <a href='file:///Users/aristizabal-factored/Documents/gym-tasks/rl/models/action_value/expected_sarsa.py?line=17'>18</a>\u001b[0m \u001b[39mdef\u001b[39;00m \u001b[39mupdate\u001b[39m(\u001b[39mself\u001b[39m, observation, action, reward, next_observation, done):\n\u001b[0;32m---> <a href='file:///Users/aristizabal-factored/Documents/gym-tasks/rl/models/action_value/expected_sarsa.py?line=18'>19</a>\u001b[0m \tprev_val \u001b[39m=\u001b[39m \u001b[39mself\u001b[39;49m\u001b[39m.\u001b[39;49mstrategy(observation)[action]\n\u001b[1;32m     <a href='file:///Users/aristizabal-factored/Documents/gym-tasks/rl/models/action_value/expected_sarsa.py?line=19'>20</a>\u001b[0m \t\u001b[39mwith\u001b[39;00m torch\u001b[39m.\u001b[39mno_grad():\n\u001b[1;32m     <a href='file:///Users/aristizabal-factored/Documents/gym-tasks/rl/models/action_value/expected_sarsa.py?line=20'>21</a>\u001b[0m \t\t\u001b[39m# we don't want to compute the gradients with respect to the future actions\u001b[39;00m\n\u001b[1;32m     <a href='file:///Users/aristizabal-factored/Documents/gym-tasks/rl/models/action_value/expected_sarsa.py?line=21'>22</a>\u001b[0m \t\t\u001b[39mif\u001b[39;00m done:\n",
      "File \u001b[0;32m~/Documents/gym-tasks/rl/strategies/function_approximation/epsilon_greedy.py:21\u001b[0m, in \u001b[0;36mEpsilonGreedy.__call__\u001b[0;34m(self, observation)\u001b[0m\n\u001b[1;32m     <a href='file:///Users/aristizabal-factored/Documents/gym-tasks/rl/strategies/function_approximation/epsilon_greedy.py?line=19'>20</a>\u001b[0m \u001b[39mdef\u001b[39;00m \u001b[39m__call__\u001b[39m(\u001b[39mself\u001b[39m, observation):\n\u001b[0;32m---> <a href='file:///Users/aristizabal-factored/Documents/gym-tasks/rl/strategies/function_approximation/epsilon_greedy.py?line=20'>21</a>\u001b[0m \t\u001b[39mreturn\u001b[39;00m \u001b[39mself\u001b[39;49m\u001b[39m.\u001b[39;49maction_value(observation)\n",
      "File \u001b[0;32m~/Documents/gym-tasks/.venv/lib/python3.9/site-packages/torch/nn/modules/module.py:1110\u001b[0m, in \u001b[0;36mModule._call_impl\u001b[0;34m(self, *input, **kwargs)\u001b[0m\n\u001b[1;32m   <a href='file:///Users/aristizabal-factored/Documents/gym-tasks/.venv/lib/python3.9/site-packages/torch/nn/modules/module.py?line=1105'>1106</a>\u001b[0m \u001b[39m# If we don't have any hooks, we want to skip the rest of the logic in\u001b[39;00m\n\u001b[1;32m   <a href='file:///Users/aristizabal-factored/Documents/gym-tasks/.venv/lib/python3.9/site-packages/torch/nn/modules/module.py?line=1106'>1107</a>\u001b[0m \u001b[39m# this function, and just call forward.\u001b[39;00m\n\u001b[1;32m   <a href='file:///Users/aristizabal-factored/Documents/gym-tasks/.venv/lib/python3.9/site-packages/torch/nn/modules/module.py?line=1107'>1108</a>\u001b[0m \u001b[39mif\u001b[39;00m \u001b[39mnot\u001b[39;00m (\u001b[39mself\u001b[39m\u001b[39m.\u001b[39m_backward_hooks \u001b[39mor\u001b[39;00m \u001b[39mself\u001b[39m\u001b[39m.\u001b[39m_forward_hooks \u001b[39mor\u001b[39;00m \u001b[39mself\u001b[39m\u001b[39m.\u001b[39m_forward_pre_hooks \u001b[39mor\u001b[39;00m _global_backward_hooks\n\u001b[1;32m   <a href='file:///Users/aristizabal-factored/Documents/gym-tasks/.venv/lib/python3.9/site-packages/torch/nn/modules/module.py?line=1108'>1109</a>\u001b[0m         \u001b[39mor\u001b[39;00m _global_forward_hooks \u001b[39mor\u001b[39;00m _global_forward_pre_hooks):\n\u001b[0;32m-> <a href='file:///Users/aristizabal-factored/Documents/gym-tasks/.venv/lib/python3.9/site-packages/torch/nn/modules/module.py?line=1109'>1110</a>\u001b[0m     \u001b[39mreturn\u001b[39;00m forward_call(\u001b[39m*\u001b[39;49m\u001b[39minput\u001b[39;49m, \u001b[39m*\u001b[39;49m\u001b[39m*\u001b[39;49mkwargs)\n\u001b[1;32m   <a href='file:///Users/aristizabal-factored/Documents/gym-tasks/.venv/lib/python3.9/site-packages/torch/nn/modules/module.py?line=1110'>1111</a>\u001b[0m \u001b[39m# Do not call functions when jit is used\u001b[39;00m\n\u001b[1;32m   <a href='file:///Users/aristizabal-factored/Documents/gym-tasks/.venv/lib/python3.9/site-packages/torch/nn/modules/module.py?line=1111'>1112</a>\u001b[0m full_backward_hooks, non_full_backward_hooks \u001b[39m=\u001b[39m [], []\n",
      "File \u001b[0;32m~/Documents/gym-tasks/.venv/lib/python3.9/site-packages/torch/nn/modules/container.py:141\u001b[0m, in \u001b[0;36mSequential.forward\u001b[0;34m(self, input)\u001b[0m\n\u001b[1;32m    <a href='file:///Users/aristizabal-factored/Documents/gym-tasks/.venv/lib/python3.9/site-packages/torch/nn/modules/container.py?line=138'>139</a>\u001b[0m \u001b[39mdef\u001b[39;00m \u001b[39mforward\u001b[39m(\u001b[39mself\u001b[39m, \u001b[39minput\u001b[39m):\n\u001b[1;32m    <a href='file:///Users/aristizabal-factored/Documents/gym-tasks/.venv/lib/python3.9/site-packages/torch/nn/modules/container.py?line=139'>140</a>\u001b[0m     \u001b[39mfor\u001b[39;00m module \u001b[39min\u001b[39;00m \u001b[39mself\u001b[39m:\n\u001b[0;32m--> <a href='file:///Users/aristizabal-factored/Documents/gym-tasks/.venv/lib/python3.9/site-packages/torch/nn/modules/container.py?line=140'>141</a>\u001b[0m         \u001b[39minput\u001b[39m \u001b[39m=\u001b[39m module(\u001b[39minput\u001b[39;49m)\n\u001b[1;32m    <a href='file:///Users/aristizabal-factored/Documents/gym-tasks/.venv/lib/python3.9/site-packages/torch/nn/modules/container.py?line=141'>142</a>\u001b[0m     \u001b[39mreturn\u001b[39;00m \u001b[39minput\u001b[39m\n",
      "File \u001b[0;32m~/Documents/gym-tasks/.venv/lib/python3.9/site-packages/torch/nn/modules/module.py:1110\u001b[0m, in \u001b[0;36mModule._call_impl\u001b[0;34m(self, *input, **kwargs)\u001b[0m\n\u001b[1;32m   <a href='file:///Users/aristizabal-factored/Documents/gym-tasks/.venv/lib/python3.9/site-packages/torch/nn/modules/module.py?line=1105'>1106</a>\u001b[0m \u001b[39m# If we don't have any hooks, we want to skip the rest of the logic in\u001b[39;00m\n\u001b[1;32m   <a href='file:///Users/aristizabal-factored/Documents/gym-tasks/.venv/lib/python3.9/site-packages/torch/nn/modules/module.py?line=1106'>1107</a>\u001b[0m \u001b[39m# this function, and just call forward.\u001b[39;00m\n\u001b[1;32m   <a href='file:///Users/aristizabal-factored/Documents/gym-tasks/.venv/lib/python3.9/site-packages/torch/nn/modules/module.py?line=1107'>1108</a>\u001b[0m \u001b[39mif\u001b[39;00m \u001b[39mnot\u001b[39;00m (\u001b[39mself\u001b[39m\u001b[39m.\u001b[39m_backward_hooks \u001b[39mor\u001b[39;00m \u001b[39mself\u001b[39m\u001b[39m.\u001b[39m_forward_hooks \u001b[39mor\u001b[39;00m \u001b[39mself\u001b[39m\u001b[39m.\u001b[39m_forward_pre_hooks \u001b[39mor\u001b[39;00m _global_backward_hooks\n\u001b[1;32m   <a href='file:///Users/aristizabal-factored/Documents/gym-tasks/.venv/lib/python3.9/site-packages/torch/nn/modules/module.py?line=1108'>1109</a>\u001b[0m         \u001b[39mor\u001b[39;00m _global_forward_hooks \u001b[39mor\u001b[39;00m _global_forward_pre_hooks):\n\u001b[0;32m-> <a href='file:///Users/aristizabal-factored/Documents/gym-tasks/.venv/lib/python3.9/site-packages/torch/nn/modules/module.py?line=1109'>1110</a>\u001b[0m     \u001b[39mreturn\u001b[39;00m forward_call(\u001b[39m*\u001b[39;49m\u001b[39minput\u001b[39;49m, \u001b[39m*\u001b[39;49m\u001b[39m*\u001b[39;49mkwargs)\n\u001b[1;32m   <a href='file:///Users/aristizabal-factored/Documents/gym-tasks/.venv/lib/python3.9/site-packages/torch/nn/modules/module.py?line=1110'>1111</a>\u001b[0m \u001b[39m# Do not call functions when jit is used\u001b[39;00m\n\u001b[1;32m   <a href='file:///Users/aristizabal-factored/Documents/gym-tasks/.venv/lib/python3.9/site-packages/torch/nn/modules/module.py?line=1111'>1112</a>\u001b[0m full_backward_hooks, non_full_backward_hooks \u001b[39m=\u001b[39m [], []\n",
      "File \u001b[0;32m~/Documents/gym-tasks/.venv/lib/python3.9/site-packages/torch/nn/modules/linear.py:103\u001b[0m, in \u001b[0;36mLinear.forward\u001b[0;34m(self, input)\u001b[0m\n\u001b[1;32m    <a href='file:///Users/aristizabal-factored/Documents/gym-tasks/.venv/lib/python3.9/site-packages/torch/nn/modules/linear.py?line=101'>102</a>\u001b[0m \u001b[39mdef\u001b[39;00m \u001b[39mforward\u001b[39m(\u001b[39mself\u001b[39m, \u001b[39minput\u001b[39m: Tensor) \u001b[39m-\u001b[39m\u001b[39m>\u001b[39m Tensor:\n\u001b[0;32m--> <a href='file:///Users/aristizabal-factored/Documents/gym-tasks/.venv/lib/python3.9/site-packages/torch/nn/modules/linear.py?line=102'>103</a>\u001b[0m     \u001b[39mreturn\u001b[39;00m F\u001b[39m.\u001b[39;49mlinear(\u001b[39minput\u001b[39;49m, \u001b[39mself\u001b[39;49m\u001b[39m.\u001b[39;49mweight, \u001b[39mself\u001b[39;49m\u001b[39m.\u001b[39;49mbias)\n",
      "\u001b[0;31mKeyboardInterrupt\u001b[0m: "
     ]
    }
   ],
   "source": [
    "from tqdm import tqdm\n",
    "episodes = 3000\n",
    "render_every = 100\n",
    "rolling_avg_window = 100\n",
    "agent.reset()\n",
    "ep_rewards = []\n",
    "loop = tqdm(range(episodes))\n",
    "for epoch in loop:\n",
    "\tobservation, info = env.reset(return_info=True)\n",
    "\tobservation = torch.from_numpy(observation).float()\n",
    "\tep_reward = 0\n",
    "\twhile True:\n",
    "\t\taction = agent.get_action(observation)\n",
    "\t\tn_observation, reward, done, _= env.step(action)\n",
    "\t\tn_observation = torch.from_numpy(n_observation).float()\n",
    "\t\tep_reward += reward\n",
    "\t\t# reward = reward ** 5\n",
    "\t\tagent.update(observation, action, reward, n_observation, done)\n",
    "\t\tobservation = n_observation\n",
    "\t\tif epoch % render_every == 0:\n",
    "\t\t\tenv.render()\n",
    "\t\tif done:\n",
    "\t\t\tbreak\n",
    "\tep_rewards.append(ep_reward)\n",
    "\trolling_avg_rewards = ep_rewards[-rolling_avg_window:]\n",
    "\tavg = sum(rolling_avg_rewards)/len(rolling_avg_rewards)\n",
    "\tloop.set_description(f\"{rolling_avg_window}eps avg reward: {avg}\")"
   ]
  },
  {
   "cell_type": "code",
   "execution_count": 163,
   "metadata": {},
   "outputs": [],
   "source": [
    "env.close()"
   ]
  },
  {
   "cell_type": "code",
   "execution_count": 131,
   "metadata": {},
   "outputs": [
    {
     "data": {
      "text/plain": [
       "0.9200848237332326"
      ]
     },
     "execution_count": 131,
     "metadata": {},
     "output_type": "execute_result"
    }
   ],
   "source": [
    "random.random()"
   ]
  },
  {
   "cell_type": "code",
   "execution_count": null,
   "metadata": {},
   "outputs": [],
   "source": []
  },
  {
   "cell_type": "code",
   "execution_count": null,
   "metadata": {},
   "outputs": [],
   "source": []
  }
 ],
 "metadata": {
  "interpreter": {
   "hash": "d07370590de58285df589b9b920a038569bf3dca8a7f37743f7df9271b20a1c8"
  },
  "kernelspec": {
   "display_name": "Python 3.10.4 ('gym')",
   "language": "python",
   "name": "python3"
  },
  "language_info": {
   "codemirror_mode": {
    "name": "ipython",
    "version": 3
   },
   "file_extension": ".py",
   "mimetype": "text/x-python",
   "name": "python",
   "nbconvert_exporter": "python",
   "pygments_lexer": "ipython3",
   "version": "3.9.6"
  },
  "orig_nbformat": 4
 },
 "nbformat": 4,
 "nbformat_minor": 2
}
